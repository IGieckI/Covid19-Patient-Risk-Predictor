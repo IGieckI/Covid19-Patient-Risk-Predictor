{
 "cells": [
  {
   "cell_type": "markdown",
   "id": "f107afeb",
   "metadata": {
    "papermill": {
     "duration": 0.016246,
     "end_time": "2022-12-08T18:31:13.675225",
     "exception": false,
     "start_time": "2022-12-08T18:31:13.658979",
     "status": "completed"
    },
    "tags": []
   },
   "source": [
    "## Predirre se qualcuno ha o non ha il Covid-19\n",
    "\n",
    "**Programmazione di Applicazioni Data Intensive**  \n",
    "Laurea in Ingegneria e Scienze Informatiche  \n",
    "DISI - Università di Bologna, Cesena\n",
    "\n",
    "Antonelli Giacomo"
   ]
  },
  {
   "cell_type": "code",
   "execution_count": 48,
   "id": "a9155471",
   "metadata": {
    "execution": {
     "iopub.execute_input": "2022-12-08T18:31:13.740649Z",
     "iopub.status.busy": "2022-12-08T18:31:13.739534Z",
     "iopub.status.idle": "2022-12-08T18:31:14.991786Z",
     "shell.execute_reply": "2022-12-08T18:31:14.990444Z"
    },
    "papermill": {
     "duration": 1.272926,
     "end_time": "2022-12-08T18:31:14.994974",
     "exception": false,
     "start_time": "2022-12-08T18:31:13.722048",
     "status": "completed"
    },
    "tags": []
   },
   "outputs": [],
   "source": [
    "import pandas as pd"
   ]
  },
  {
   "cell_type": "markdown",
   "id": "87aa4a89",
   "metadata": {
    "execution": {
     "iopub.execute_input": "2022-12-08T15:22:38.109187Z",
     "iopub.status.busy": "2022-12-08T15:22:38.108434Z",
     "iopub.status.idle": "2022-12-08T15:22:38.121459Z",
     "shell.execute_reply": "2022-12-08T15:22:38.119817Z",
     "shell.execute_reply.started": "2022-12-08T15:22:38.109135Z"
    },
    "papermill": {
     "duration": 0.014695,
     "end_time": "2022-12-08T18:31:15.025287",
     "exception": false,
     "start_time": "2022-12-08T18:31:15.010592",
     "status": "completed"
    },
    "tags": []
   },
   "source": [
    "# Parte 1 - Descrizione del dataset e l'obiettivo del modello\n",
    "\n",
    "Il [dataset scelto](https://www.kaggle.com/datasets/meirnizri/covid19-dataset?resource=download) contiene diverse informazioni riguardo la salute di numerosi pazienti che hanno contratto il virus del COVID-19, e del livello di rischio a cui ognuno di essi è sottoposto, ovvero quanto gravi sono stati gli effetti sul loro corpo. Il modello avrà lo scopo di definire questo livello di rischio per un paziente di cui si ha solamente le informazioni cliniche, applicato al mondo reale questo modello verrebbe usato per categorizzare i pazienti in fascie diverse, in modo da dare priorità a coloro che sono più a rischio.\n",
    "\n",
    "Il dataset in sé contiene 1.048.576 righe (una per ogni paziente) e 21 caratteristiche elencate qui di seguito:\n",
    "- sex: 1 per le femmine e 2 per i maschi.\n",
    "- age: età del paziente.\n",
    "- classification: risultati del test covid. I valori da 1 a 3 significano che il paziente è stato diagnosticato con covid in diversi gradi. 4 o superiore significa che il paziente non è portatore di covid o che il test è inconcludente.\n",
    "- patient type: tipo di assistenza che il paziente ha ricevuto nell'unità. 1 per il ritorno a casa e 2 per l'ospedalizzazione.\n",
    "- pneumonia: se il paziente ha già un'infiammazione degli alveoli o meno.\n",
    "- pregnancy: se il paziente è incinta o meno.\n",
    "- diabetes: se il paziente ha il diabete o meno.\n",
    "- copd: indica se il paziente ha la broncopneumopatia cronica ostruttiva o meno.\n",
    "- asthma: se il paziente ha l'asma o meno.\n",
    "- inmsupr: se il paziente è immunosoppresso o meno.\n",
    "- hypertension: se il paziente ha l'ipertensione o meno.\n",
    "- cardiovascular: se il paziente ha malattie legate al cuore o ai vasi sanguigni.\n",
    "- renal chronic: se il paziente ha una malattia renale cronica o meno.\n",
    "- other disease: se il paziente ha altre malattie o meno.\n",
    "- obesity: se il paziente è obeso o meno.\n",
    "- tobacco: se il paziente è un consumatore di tabacco.\n",
    "- usmr: indica se il paziente è stato trattato in unità mediche di primo, secondo o terzo livello.\n",
    "- medical unit: tipo di istituzione del Sistema Sanitario Nazionale che ha fornito le cure.\n",
    "- intubed: se il paziente è stato collegato al ventilatore.\n",
    "- icu: indica se il paziente è stato ammesso in un'Unità di Terapia Intensiva.\n",
    "- date died: se il paziente è deceduto, indica la data della morte, e 9999-99-99 altrimenti.\n",
    "\n",
    "Non tutti i dati sono presenti all'interno del dataset (indicati dai valori tra 97 e 99), mentre i valori booleani sono rappresentati da 1=si e 2=no."
   ]
  },
  {
   "cell_type": "code",
   "execution_count": 59,
   "id": "e6451afe",
   "metadata": {
    "execution": {
     "iopub.execute_input": "2022-12-08T18:31:15.086242Z",
     "iopub.status.busy": "2022-12-08T18:31:15.085804Z",
     "iopub.status.idle": "2022-12-08T18:31:17.980063Z",
     "shell.execute_reply": "2022-12-08T18:31:17.978498Z"
    },
    "papermill": {
     "duration": 2.914456,
     "end_time": "2022-12-08T18:31:17.984008",
     "exception": false,
     "start_time": "2022-12-08T18:31:15.069552",
     "status": "completed"
    },
    "tags": []
   },
   "outputs": [
    {
     "name": "stdout",
     "output_type": "stream",
     "text": [
      "Forma dei dati: (1048575, 21)\n",
      "\n"
     ]
    },
    {
     "data": {
      "text/html": [
       "<div>\n",
       "<style scoped>\n",
       "    .dataframe tbody tr th:only-of-type {\n",
       "        vertical-align: middle;\n",
       "    }\n",
       "\n",
       "    .dataframe tbody tr th {\n",
       "        vertical-align: top;\n",
       "    }\n",
       "\n",
       "    .dataframe thead th {\n",
       "        text-align: right;\n",
       "    }\n",
       "</style>\n",
       "<table border=\"1\" class=\"dataframe\">\n",
       "  <thead>\n",
       "    <tr style=\"text-align: right;\">\n",
       "      <th></th>\n",
       "      <th>USMER</th>\n",
       "      <th>MEDICAL_UNIT</th>\n",
       "      <th>SEX</th>\n",
       "      <th>PATIENT_TYPE</th>\n",
       "      <th>DATE_DIED</th>\n",
       "      <th>INTUBED</th>\n",
       "      <th>PNEUMONIA</th>\n",
       "      <th>AGE</th>\n",
       "      <th>PREGNANT</th>\n",
       "      <th>DIABETES</th>\n",
       "      <th>...</th>\n",
       "      <th>ASTHMA</th>\n",
       "      <th>INMSUPR</th>\n",
       "      <th>HIPERTENSION</th>\n",
       "      <th>OTHER_DISEASE</th>\n",
       "      <th>CARDIOVASCULAR</th>\n",
       "      <th>OBESITY</th>\n",
       "      <th>RENAL_CHRONIC</th>\n",
       "      <th>TOBACCO</th>\n",
       "      <th>CLASIFFICATION_FINAL</th>\n",
       "      <th>ICU</th>\n",
       "    </tr>\n",
       "  </thead>\n",
       "  <tbody>\n",
       "    <tr>\n",
       "      <th>0</th>\n",
       "      <td>2</td>\n",
       "      <td>1</td>\n",
       "      <td>1</td>\n",
       "      <td>1</td>\n",
       "      <td>03/05/2020</td>\n",
       "      <td>97</td>\n",
       "      <td>1</td>\n",
       "      <td>65</td>\n",
       "      <td>2</td>\n",
       "      <td>2</td>\n",
       "      <td>...</td>\n",
       "      <td>2</td>\n",
       "      <td>2</td>\n",
       "      <td>1</td>\n",
       "      <td>2</td>\n",
       "      <td>2</td>\n",
       "      <td>2</td>\n",
       "      <td>2</td>\n",
       "      <td>2</td>\n",
       "      <td>3</td>\n",
       "      <td>97</td>\n",
       "    </tr>\n",
       "    <tr>\n",
       "      <th>1</th>\n",
       "      <td>2</td>\n",
       "      <td>1</td>\n",
       "      <td>2</td>\n",
       "      <td>1</td>\n",
       "      <td>03/06/2020</td>\n",
       "      <td>97</td>\n",
       "      <td>1</td>\n",
       "      <td>72</td>\n",
       "      <td>97</td>\n",
       "      <td>2</td>\n",
       "      <td>...</td>\n",
       "      <td>2</td>\n",
       "      <td>2</td>\n",
       "      <td>1</td>\n",
       "      <td>2</td>\n",
       "      <td>2</td>\n",
       "      <td>1</td>\n",
       "      <td>1</td>\n",
       "      <td>2</td>\n",
       "      <td>5</td>\n",
       "      <td>97</td>\n",
       "    </tr>\n",
       "    <tr>\n",
       "      <th>2</th>\n",
       "      <td>2</td>\n",
       "      <td>1</td>\n",
       "      <td>2</td>\n",
       "      <td>2</td>\n",
       "      <td>09/06/2020</td>\n",
       "      <td>1</td>\n",
       "      <td>2</td>\n",
       "      <td>55</td>\n",
       "      <td>97</td>\n",
       "      <td>1</td>\n",
       "      <td>...</td>\n",
       "      <td>2</td>\n",
       "      <td>2</td>\n",
       "      <td>2</td>\n",
       "      <td>2</td>\n",
       "      <td>2</td>\n",
       "      <td>2</td>\n",
       "      <td>2</td>\n",
       "      <td>2</td>\n",
       "      <td>3</td>\n",
       "      <td>2</td>\n",
       "    </tr>\n",
       "    <tr>\n",
       "      <th>3</th>\n",
       "      <td>2</td>\n",
       "      <td>1</td>\n",
       "      <td>1</td>\n",
       "      <td>1</td>\n",
       "      <td>12/06/2020</td>\n",
       "      <td>97</td>\n",
       "      <td>2</td>\n",
       "      <td>53</td>\n",
       "      <td>2</td>\n",
       "      <td>2</td>\n",
       "      <td>...</td>\n",
       "      <td>2</td>\n",
       "      <td>2</td>\n",
       "      <td>2</td>\n",
       "      <td>2</td>\n",
       "      <td>2</td>\n",
       "      <td>2</td>\n",
       "      <td>2</td>\n",
       "      <td>2</td>\n",
       "      <td>7</td>\n",
       "      <td>97</td>\n",
       "    </tr>\n",
       "    <tr>\n",
       "      <th>4</th>\n",
       "      <td>2</td>\n",
       "      <td>1</td>\n",
       "      <td>2</td>\n",
       "      <td>1</td>\n",
       "      <td>21/06/2020</td>\n",
       "      <td>97</td>\n",
       "      <td>2</td>\n",
       "      <td>68</td>\n",
       "      <td>97</td>\n",
       "      <td>1</td>\n",
       "      <td>...</td>\n",
       "      <td>2</td>\n",
       "      <td>2</td>\n",
       "      <td>1</td>\n",
       "      <td>2</td>\n",
       "      <td>2</td>\n",
       "      <td>2</td>\n",
       "      <td>2</td>\n",
       "      <td>2</td>\n",
       "      <td>3</td>\n",
       "      <td>97</td>\n",
       "    </tr>\n",
       "  </tbody>\n",
       "</table>\n",
       "<p>5 rows × 21 columns</p>\n",
       "</div>"
      ],
      "text/plain": [
       "   USMER  MEDICAL_UNIT  SEX  PATIENT_TYPE   DATE_DIED  INTUBED  PNEUMONIA  \\\n",
       "0      2             1    1             1  03/05/2020       97          1   \n",
       "1      2             1    2             1  03/06/2020       97          1   \n",
       "2      2             1    2             2  09/06/2020        1          2   \n",
       "3      2             1    1             1  12/06/2020       97          2   \n",
       "4      2             1    2             1  21/06/2020       97          2   \n",
       "\n",
       "   AGE  PREGNANT  DIABETES  ...  ASTHMA  INMSUPR  HIPERTENSION  OTHER_DISEASE  \\\n",
       "0   65         2         2  ...       2        2             1              2   \n",
       "1   72        97         2  ...       2        2             1              2   \n",
       "2   55        97         1  ...       2        2             2              2   \n",
       "3   53         2         2  ...       2        2             2              2   \n",
       "4   68        97         1  ...       2        2             1              2   \n",
       "\n",
       "   CARDIOVASCULAR  OBESITY  RENAL_CHRONIC  TOBACCO  CLASIFFICATION_FINAL  ICU  \n",
       "0               2        2              2        2                     3   97  \n",
       "1               2        1              1        2                     5   97  \n",
       "2               2        2              2        2                     3    2  \n",
       "3               2        2              2        2                     7   97  \n",
       "4               2        2              2        2                     3   97  \n",
       "\n",
       "[5 rows x 21 columns]"
      ]
     },
     "execution_count": 59,
     "metadata": {},
     "output_type": "execute_result"
    }
   ],
   "source": [
    "# Dopo aver scaricato il file, lo carichiamo in un DataFrame\n",
    "data = pd.read_csv(\"Covid Data.csv\")\n",
    "initial_size = data.memory_usage(deep=True).sum()/1024**2\n",
    "\n",
    "print(f\"Forma dei dati: {data.shape}\\n\")\n",
    "\n",
    "data.head()"
   ]
  },
  {
   "cell_type": "markdown",
   "id": "9ee8d3e3",
   "metadata": {},
   "source": [
    "# Parte 2 - Analisi esplorativa\n",
    "In questa parte andremo ad analizzare le varie feature e valori del dataset attraverso strumenti statistici per capirne la distribuzione ed eventualmente eliminare dati non necessari."
   ]
  },
  {
   "cell_type": "code",
   "execution_count": 60,
   "id": "30bec243",
   "metadata": {
    "execution": {
     "iopub.execute_input": "2022-12-08T18:31:18.018611Z",
     "iopub.status.busy": "2022-12-08T18:31:18.018202Z",
     "iopub.status.idle": "2022-12-08T18:31:18.125923Z",
     "shell.execute_reply": "2022-12-08T18:31:18.123503Z"
    },
    "papermill": {
     "duration": 0.12823,
     "end_time": "2022-12-08T18:31:18.129562",
     "exception": false,
     "start_time": "2022-12-08T18:31:18.001332",
     "status": "completed"
    },
    "tags": []
   },
   "outputs": [
    {
     "name": "stdout",
     "output_type": "stream",
     "text": [
      "Numero di NaN: 0\n",
      "\n",
      "Numero di record con feature tra 97 e 99:\n",
      "USMER                        0\n",
      "MEDICAL_UNIT                 0\n",
      "SEX                          0\n",
      "PATIENT_TYPE                 0\n",
      "DATE_DIED                    0\n",
      "INTUBED                 855869\n",
      "PNEUMONIA                16003\n",
      "AGE                        345\n",
      "PREGNANT                527265\n",
      "DIABETES                  3338\n",
      "COPD                      3003\n",
      "ASTHMA                    2979\n",
      "INMSUPR                   3404\n",
      "HIPERTENSION              3104\n",
      "OTHER_DISEASE             5045\n",
      "CARDIOVASCULAR            3076\n",
      "OBESITY                   3032\n",
      "RENAL_CHRONIC             3006\n",
      "TOBACCO                   3220\n",
      "CLASIFFICATION_FINAL         0\n",
      "ICU                     856032\n",
      "dtype: int64\n"
     ]
    }
   ],
   "source": [
    "# Come da specifiche i dati assenti non sono rappresentati da NaN ma da numeri tra 97 e 99\n",
    "print(f\"Numero di NaN: {data.isna().sum().sum()}\\n\")\n",
    "\n",
    "# Andiamo quindi quanti sono i record con valori tra 97 e 99 per ogni colonna\n",
    "print(\"Numero di record con feature tra 97 e 99:\")\n",
    "print(data.apply(lambda col: col.isin([97, 98, 99]).sum()))"
   ]
  },
  {
   "cell_type": "markdown",
   "id": "6b0b3776",
   "metadata": {},
   "source": [
    "Siccome le colonne INTUBED e ICU hanno per la maggior parte dei record valori non disponibili le eliminiamo dal dataframe\\\n",
    "PROVA A FARE UN TEST SENZA TOGLIERLE DAL DATAFRAME!!!"
   ]
  },
  {
   "cell_type": "code",
   "execution_count": 61,
   "id": "7cee429a",
   "metadata": {},
   "outputs": [
    {
     "name": "stdout",
     "output_type": "stream",
     "text": [
      "INTUBED\n",
      "97    848544\n",
      "2     159050\n",
      "1      33656\n",
      "99      7325\n",
      "Name: count, dtype: int64\n",
      "ICU\n",
      "97    848544\n",
      "2     175685\n",
      "1      16858\n",
      "99      7488\n",
      "Name: count, dtype: int64\n"
     ]
    }
   ],
   "source": [
    "print(data.INTUBED.value_counts())\n",
    "print(data.ICU.value_counts())\n",
    "data.drop(columns=[\"INTUBED\",\"ICU\"], inplace=True)"
   ]
  },
  {
   "cell_type": "markdown",
   "id": "f6f2070b",
   "metadata": {},
   "source": [
    "Andiamo ora invece ad analizzare i valori dei dati, in modo da capire se possiamo risparmiare memoria cambiando il tipo di dato"
   ]
  },
  {
   "cell_type": "code",
   "execution_count": 62,
   "id": "6d7dd672",
   "metadata": {
    "execution": {
     "iopub.execute_input": "2022-12-08T18:31:18.164098Z",
     "iopub.status.busy": "2022-12-08T18:31:18.163664Z",
     "iopub.status.idle": "2022-12-08T18:31:18.245624Z",
     "shell.execute_reply": "2022-12-08T18:31:18.243996Z"
    },
    "papermill": {
     "duration": 0.102177,
     "end_time": "2022-12-08T18:31:18.248584",
     "exception": false,
     "start_time": "2022-12-08T18:31:18.146407",
     "status": "completed"
    },
    "tags": []
   },
   "outputs": [
    {
     "name": "stdout",
     "output_type": "stream",
     "text": [
      "USMER :  2\n",
      "MEDICAL_UNIT :  13\n",
      "SEX :  2\n",
      "PATIENT_TYPE :  2\n",
      "DATE_DIED :  401\n",
      "PNEUMONIA :  3\n",
      "AGE :  121\n",
      "PREGNANT :  4\n",
      "DIABETES :  3\n",
      "COPD :  3\n",
      "ASTHMA :  3\n",
      "INMSUPR :  3\n",
      "HIPERTENSION :  3\n",
      "OTHER_DISEASE :  3\n",
      "CARDIOVASCULAR :  3\n",
      "OBESITY :  3\n",
      "RENAL_CHRONIC :  3\n",
      "TOBACCO :  3\n",
      "CLASIFFICATION_FINAL :  7\n"
     ]
    }
   ],
   "source": [
    "for i in data.columns:\n",
    "    print(i,\": \",len(data[i].unique()))"
   ]
  },
  {
   "cell_type": "markdown",
   "id": "6100a99b",
   "metadata": {},
   "source": [
    "Della feature DATE_DIED, non ci importa la data di decesso o meno della persona, quindi possiamo convertirlo in un binario 1=morto, 2=vivo"
   ]
  },
  {
   "cell_type": "code",
   "execution_count": 63,
   "id": "9c6e2958",
   "metadata": {},
   "outputs": [],
   "source": [
    "data[\"DATE_DIED\"] = [2 if date==\"9999-99-99\" else 1 for date in data.DATE_DIED]"
   ]
  },
  {
   "cell_type": "markdown",
   "id": "51e59323",
   "metadata": {},
   "source": [
    "Riguardo alla feature PREGNANT, possiamo vedere che numerosi valori sono identificati come assenti:"
   ]
  },
  {
   "cell_type": "code",
   "execution_count": 64,
   "id": "e18b9bfb",
   "metadata": {},
   "outputs": [
    {
     "name": "stdout",
     "output_type": "stream",
     "text": [
      "PREGNANT\n",
      "97    523511\n",
      "2     513179\n",
      "1       8131\n",
      "98      3754\n",
      "Name: count, dtype: int64\n"
     ]
    }
   ],
   "source": [
    "print(data.PREGNANT.value_counts())"
   ]
  },
  {
   "cell_type": "markdown",
   "id": "5001c3d2",
   "metadata": {},
   "source": [
    "In particolare, analizzando le feature mischiando PREGNANT e SEX, possiamo vedere come la maggior parte dei valori assenti ricadano tra i pazienti di sesso maschile, per questo motivo possiamo immetergli un valore PREGNANT uguale a 2 (False), mentre per i pochi valori assenti nei record con sesso femminile possiamo eliminarli siccome non sono un numero importante"
   ]
  },
  {
   "cell_type": "code",
   "execution_count": 65,
   "id": "c46e372c",
   "metadata": {},
   "outputs": [
    {
     "name": "stdout",
     "output_type": "stream",
     "text": [
      "Male pregnants:\n",
      "PREGNANT\n",
      "97    523511\n",
      "Name: count, dtype: int64\n",
      "\n",
      "Female pregnants:\n",
      "PREGNANT\n",
      "2     513179\n",
      "1       8131\n",
      "98      3754\n",
      "Name: count, dtype: int64\n",
      "\n"
     ]
    },
    {
     "data": {
      "text/plain": [
       "PREGNANT\n",
       "2    1036690\n",
       "1       8131\n",
       "Name: count, dtype: int64"
      ]
     },
     "execution_count": 65,
     "metadata": {},
     "output_type": "execute_result"
    }
   ],
   "source": [
    "male_pregnant = data.loc[data.SEX == 2, 'PREGNANT'].value_counts()\n",
    "female_pregnant = data.loc[data.SEX == 1, 'PREGNANT'].value_counts()\n",
    "print(f\"Male pregnants:\\n{male_pregnant}\\n\")\n",
    "print(f\"Female pregnants:\\n{female_pregnant}\\n\")\n",
    "\n",
    "# Elimino i pochi record con sesso femminile senza informazioni sulla gravidanza\n",
    "data = data[~((data.SEX == 1) & (data.PREGNANT != 1) & (data.PREGNANT != 2))]\n",
    "\n",
    "# Converto tutti i record con sesso maschile in 2 (non incinta)\n",
    "data = data.replace({'PREGNANT': {97: 2, 98: 2, 99: 2}})\n",
    "\n",
    "data.PREGNANT.value_counts()"
   ]
  },
  {
   "cell_type": "markdown",
   "id": "1f909d5c",
   "metadata": {},
   "source": [
    "Ora eliminiamo i record con valori tra 97 e 99, tranne per INTUBED, PNEUMONIA e PREGNANT DA FIXARE!!!"
   ]
  },
  {
   "cell_type": "code",
   "execution_count": 66,
   "id": "5ce5a7c4",
   "metadata": {},
   "outputs": [
    {
     "name": "stdout",
     "output_type": "stream",
     "text": [
      "(1021655, 19)\n",
      "Numero di record con feature tra 97 e 99:  0\n"
     ]
    }
   ],
   "source": [
    "data = data[~data.isin([97, 98, 99]).any(axis=1)]\n",
    "print(data.shape)\n",
    "print(\"Numero di record con feature tra 97 e 99: \", data.apply(lambda col: col.isin([97, 98, 99]).sum()).sum())"
   ]
  },
  {
   "cell_type": "markdown",
   "id": "49c9075a",
   "metadata": {},
   "source": [
    "Dalla stampa precedente possiamo notare che la maggior parte delle colonne ha un numero di valori unici molto basso, possiamo quindi raccoglierli in gruppi di valori definiti"
   ]
  },
  {
   "cell_type": "code",
   "execution_count": 67,
   "id": "43c36b8e",
   "metadata": {},
   "outputs": [],
   "source": [
    "data['USMER'] = data['USMER'].astype('category')\n",
    "data['MEDICAL_UNIT'] = data['MEDICAL_UNIT'].astype('category')\n",
    "data['SEX'] = data['SEX'].astype('category')\n",
    "data['DATE_DIED'] = data['DATE_DIED'].astype('category')\n",
    "#data['INTUBED'] = data['INTUBED'].astype('category')\n",
    "data['PNEUMONIA'] = data['PNEUMONIA'].astype('category')\n",
    "data['PREGNANT'] = data['PREGNANT'].astype('category')\n",
    "data['DIABETES'] = data['DIABETES'].astype('category')\n",
    "data['COPD'] = data['COPD'].astype('category')\n",
    "data['ASTHMA'] = data['ASTHMA'].astype('category')\n",
    "data['INMSUPR'] = data['INMSUPR'].astype('category')\n",
    "data['HIPERTENSION'] = data['HIPERTENSION'].astype('category')\n",
    "data['OTHER_DISEASE'] = data['OTHER_DISEASE'].astype('category')\n",
    "data['CARDIOVASCULAR'] = data['CARDIOVASCULAR'].astype('category')\n",
    "data['OBESITY'] = data['OBESITY'].astype('category')\n",
    "data['RENAL_CHRONIC'] = data['RENAL_CHRONIC'].astype('category')\n",
    "data['TOBACCO'] = data['TOBACCO'].astype('category')\n",
    "#data['ICU'] = data['ICU'].astype('category')"
   ]
  },
  {
   "cell_type": "code",
   "execution_count": 70,
   "id": "5828c144",
   "metadata": {},
   "outputs": [
    {
     "name": "stdout",
     "output_type": "stream",
     "text": [
      "Quantità di memoria risparmiata: 172.23 MB (78.64%)\n"
     ]
    }
   ],
   "source": [
    "final_size = data.memory_usage(deep=True).sum()/1024**2\n",
    "\n",
    "saved_memory = initial_size - final_size\n",
    "saved_memory_percentage = (saved_memory / initial_size) * 100\n",
    "\n",
    "print(f\"Quantità di memoria risparmiata: {saved_memory:.2f} MB ({saved_memory_percentage:.2f}%)\")"
   ]
  }
 ],
 "metadata": {
  "kernelspec": {
   "display_name": "Python 3",
   "language": "python",
   "name": "python3"
  },
  "language_info": {
   "codemirror_mode": {
    "name": "ipython",
    "version": 3
   },
   "file_extension": ".py",
   "mimetype": "text/x-python",
   "name": "python",
   "nbconvert_exporter": "python",
   "pygments_lexer": "ipython3",
   "version": "3.12.4"
  },
  "papermill": {
   "default_parameters": {},
   "duration": 50.319046,
   "end_time": "2022-12-08T18:31:54.234107",
   "environment_variables": {},
   "exception": null,
   "input_path": "__notebook__.ipynb",
   "output_path": "__notebook__.ipynb",
   "parameters": {},
   "start_time": "2022-12-08T18:31:03.915061",
   "version": "2.3.4"
  }
 },
 "nbformat": 4,
 "nbformat_minor": 5
}
